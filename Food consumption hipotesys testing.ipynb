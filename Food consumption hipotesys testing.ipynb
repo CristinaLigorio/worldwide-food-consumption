{
 "cells": [
  {
   "attachments": {},
   "cell_type": "markdown",
   "id": "fced9a7c-bf3f-478c-9860-5d24a88b172b",
   "metadata": {},
   "source": [
    "# Analysis of worldwide food consumption and related CO2 emissions (hypothesis testing and permutation test)"
   ]
  },
  {
   "cell_type": "code",
   "execution_count": 10,
   "id": "734a815f-7e3e-4032-9721-eb5409fbc523",
   "metadata": {},
   "outputs": [],
   "source": [
    "# Import the necessary libraries\n",
    "import numpy as np\n",
    "import pandas as pd\n",
    "\n",
    "import matplotlib.pyplot as plt\n",
    "import seaborn as sns\n",
    "sns.set_theme()\n",
    "sns.set(rc={'figure.figsize':(15, 9)})\n",
    "sns.set(font_scale=1.5) "
   ]
  },
  {
   "attachments": {},
   "cell_type": "markdown",
   "id": "7b2d5563-e2df-4934-b313-c15a3fc6e6d2",
   "metadata": {},
   "source": [
    "### Exploratory analysis\n",
    "\n",
    "The `food_consumption.csv` dataset from the `food` folder contains data on the several countries' food consumption per food category and their respective CO2 emissions."
   ]
  },
  {
   "cell_type": "code",
   "execution_count": 11,
   "id": "dfd5da95-6fdd-4f31-acb8-9c6e1a424df7",
   "metadata": {},
   "outputs": [
    {
     "name": "stdout",
     "output_type": "stream",
     "text": [
      "<class 'pandas.core.frame.DataFrame'>\n",
      "RangeIndex: 1430 entries, 0 to 1429\n",
      "Data columns (total 4 columns):\n",
      " #   Column         Non-Null Count  Dtype  \n",
      "---  ------         --------------  -----  \n",
      " 0   country        1430 non-null   object \n",
      " 1   food_category  1430 non-null   object \n",
      " 2   consumption    1430 non-null   float64\n",
      " 3   co2_emission   1430 non-null   float64\n",
      "dtypes: float64(2), object(2)\n",
      "memory usage: 44.8+ KB\n"
     ]
    }
   ],
   "source": [
    "# load food_consumption.csv to a DataFrame named food\n",
    "food = pd.read_csv(r\"..\\food_consumption.csv\")\n",
    "\n",
    "# check the DF\n",
    "food.info()"
   ]
  },
  {
   "cell_type": "code",
   "execution_count": 12,
   "id": "b539d187",
   "metadata": {},
   "outputs": [
    {
     "data": {
      "text/html": [
       "<div>\n",
       "<style scoped>\n",
       "    .dataframe tbody tr th:only-of-type {\n",
       "        vertical-align: middle;\n",
       "    }\n",
       "\n",
       "    .dataframe tbody tr th {\n",
       "        vertical-align: top;\n",
       "    }\n",
       "\n",
       "    .dataframe thead th {\n",
       "        text-align: right;\n",
       "    }\n",
       "</style>\n",
       "<table border=\"1\" class=\"dataframe\">\n",
       "  <thead>\n",
       "    <tr style=\"text-align: right;\">\n",
       "      <th></th>\n",
       "      <th>country</th>\n",
       "      <th>food_category</th>\n",
       "      <th>consumption</th>\n",
       "      <th>co2_emission</th>\n",
       "    </tr>\n",
       "  </thead>\n",
       "  <tbody>\n",
       "    <tr>\n",
       "      <th>1040</th>\n",
       "      <td>Namibia</td>\n",
       "      <td>dairy</td>\n",
       "      <td>73.05</td>\n",
       "      <td>104.05</td>\n",
       "    </tr>\n",
       "    <tr>\n",
       "      <th>601</th>\n",
       "      <td>Czech Republic</td>\n",
       "      <td>wheat</td>\n",
       "      <td>92.67</td>\n",
       "      <td>17.67</td>\n",
       "    </tr>\n",
       "    <tr>\n",
       "      <th>149</th>\n",
       "      <td>Finland</td>\n",
       "      <td>dairy</td>\n",
       "      <td>430.76</td>\n",
       "      <td>613.57</td>\n",
       "    </tr>\n",
       "    <tr>\n",
       "      <th>423</th>\n",
       "      <td>Russia</td>\n",
       "      <td>eggs</td>\n",
       "      <td>15.43</td>\n",
       "      <td>14.17</td>\n",
       "    </tr>\n",
       "    <tr>\n",
       "      <th>527</th>\n",
       "      <td>Turkey</td>\n",
       "      <td>nuts</td>\n",
       "      <td>7.97</td>\n",
       "      <td>14.11</td>\n",
       "    </tr>\n",
       "    <tr>\n",
       "      <th>1277</th>\n",
       "      <td>Rwanda</td>\n",
       "      <td>poultry</td>\n",
       "      <td>1.34</td>\n",
       "      <td>1.44</td>\n",
       "    </tr>\n",
       "    <tr>\n",
       "      <th>1375</th>\n",
       "      <td>Sierra Leone</td>\n",
       "      <td>pork</td>\n",
       "      <td>1.22</td>\n",
       "      <td>4.32</td>\n",
       "    </tr>\n",
       "    <tr>\n",
       "      <th>474</th>\n",
       "      <td>New Caledonia</td>\n",
       "      <td>poultry</td>\n",
       "      <td>44.36</td>\n",
       "      <td>47.65</td>\n",
       "    </tr>\n",
       "    <tr>\n",
       "      <th>955</th>\n",
       "      <td>Grenada</td>\n",
       "      <td>soybeans</td>\n",
       "      <td>0.01</td>\n",
       "      <td>0.00</td>\n",
       "    </tr>\n",
       "    <tr>\n",
       "      <th>1353</th>\n",
       "      <td>Mozambique</td>\n",
       "      <td>pork</td>\n",
       "      <td>5.13</td>\n",
       "      <td>18.16</td>\n",
       "    </tr>\n",
       "  </tbody>\n",
       "</table>\n",
       "</div>"
      ],
      "text/plain": [
       "             country food_category  consumption  co2_emission\n",
       "1040         Namibia         dairy        73.05        104.05\n",
       "601   Czech Republic         wheat        92.67         17.67\n",
       "149          Finland         dairy       430.76        613.57\n",
       "423           Russia          eggs        15.43         14.17\n",
       "527           Turkey          nuts         7.97         14.11\n",
       "1277          Rwanda       poultry         1.34          1.44\n",
       "1375    Sierra Leone          pork         1.22          4.32\n",
       "474    New Caledonia       poultry        44.36         47.65\n",
       "955          Grenada      soybeans         0.01          0.00\n",
       "1353      Mozambique          pork         5.13         18.16"
      ]
     },
     "execution_count": 12,
     "metadata": {},
     "output_type": "execute_result"
    }
   ],
   "source": [
    "# show a sample of the food DF\n",
    "food.sample(10)"
   ]
  },
  {
   "cell_type": "code",
   "execution_count": 13,
   "id": "bd8cd496",
   "metadata": {},
   "outputs": [
    {
     "data": {
      "text/plain": [
       "array(['pork', 'poultry', 'beef', 'lamb_goat', 'fish', 'eggs', 'dairy',\n",
       "       'wheat', 'rice', 'soybeans', 'nuts'], dtype=object)"
      ]
     },
     "execution_count": 13,
     "metadata": {},
     "output_type": "execute_result"
    }
   ],
   "source": [
    "# check the unique values in food_category\n",
    "food['food_category'].unique()"
   ]
  },
  {
   "cell_type": "code",
   "execution_count": 14,
   "id": "5c3f1c88",
   "metadata": {},
   "outputs": [
    {
     "data": {
      "text/plain": [
       "array(['Argentina', 'Australia', 'Albania', 'Iceland', 'New Zealand',\n",
       "       'USA', 'Uruguay', 'Luxembourg', 'Brazil', 'Kazakhstan', 'Sweden',\n",
       "       'Bermuda', 'Denmark', 'Finland', 'Ireland', 'Greece', 'France',\n",
       "       'Canada', 'Norway', 'Hong Kong SAR. China', 'French Polynesia',\n",
       "       'Israel', 'Switzerland', 'Netherlands', 'Kuwait', 'United Kingdom',\n",
       "       'Austria', 'Oman', 'Italy', 'Bahamas', 'Portugal', 'Malta',\n",
       "       'Armenia', 'Slovenia', 'Chile', 'Venezuela', 'Belgium', 'Germany',\n",
       "       'Russia', 'Croatia', 'Belarus', 'Spain', 'Paraguay',\n",
       "       'New Caledonia', 'South Africa', 'Barbados', 'Lithuania', 'Turkey',\n",
       "       'Estonia', 'Mexico', 'Costa Rica', 'Bolivia', 'Ecuador', 'Panama',\n",
       "       'Czech Republic', 'Romania', 'Colombia', 'Maldives', 'Cyprus',\n",
       "       'Serbia', 'United Arab Emirates', 'Algeria', 'Ukraine', 'Pakistan',\n",
       "       'Swaziland', 'Latvia', 'Bosnia and Herzegovina', 'Fiji',\n",
       "       'South Korea', 'Poland', 'Saudi Arabia', 'Botswana', 'Macedonia',\n",
       "       'Hungary', 'Trinidad and Tobago', 'Tunisia', 'Egypt', 'Mauritius',\n",
       "       'Bulgaria', 'Morocco', 'Slovakia', 'Niger', 'Kenya', 'Jordan',\n",
       "       'Japan', 'Georgia', 'Grenada', 'El Salvador', 'Cuba', 'China',\n",
       "       'Honduras', 'Taiwan. ROC', 'Angola', 'Jamaica', 'Namibia',\n",
       "       'Belize', 'Malaysia', 'Zimbabwe', 'Guatemala', 'Uganda', 'Nepal',\n",
       "       'Iran', 'Tanzania', 'Senegal', 'Peru', 'Nicaragua', 'Vietnam',\n",
       "       'Ethiopia', 'Myanmar', 'Congo', 'Zambia', 'Cameroon', 'Madagascar',\n",
       "       'Malawi', 'Guinea', 'Nigeria', 'Rwanda', 'Philippines', 'Ghana',\n",
       "       'Togo', 'Gambia', 'India', 'Thailand', 'Mozambique', 'Cambodia',\n",
       "       'Sierra Leone', 'Sri Lanka', 'Indonesia', 'Liberia', 'Bangladesh'],\n",
       "      dtype=object)"
      ]
     },
     "execution_count": 14,
     "metadata": {},
     "output_type": "execute_result"
    }
   ],
   "source": [
    "# check the unique values in country\n",
    "food['country'].unique()"
   ]
  },
  {
   "cell_type": "code",
   "execution_count": 15,
   "id": "2e8dad5d-eff2-4aea-8ee6-8013d526cc48",
   "metadata": {},
   "outputs": [
    {
     "data": {
      "text/html": [
       "<div>\n",
       "<style scoped>\n",
       "    .dataframe tbody tr th:only-of-type {\n",
       "        vertical-align: middle;\n",
       "    }\n",
       "\n",
       "    .dataframe tbody tr th {\n",
       "        vertical-align: top;\n",
       "    }\n",
       "\n",
       "    .dataframe thead th {\n",
       "        text-align: right;\n",
       "    }\n",
       "</style>\n",
       "<table border=\"1\" class=\"dataframe\">\n",
       "  <thead>\n",
       "    <tr style=\"text-align: right;\">\n",
       "      <th></th>\n",
       "      <th>count</th>\n",
       "      <th>mean</th>\n",
       "      <th>std</th>\n",
       "      <th>min</th>\n",
       "      <th>25%</th>\n",
       "      <th>50%</th>\n",
       "      <th>75%</th>\n",
       "      <th>max</th>\n",
       "    </tr>\n",
       "    <tr>\n",
       "      <th>food_category</th>\n",
       "      <th></th>\n",
       "      <th></th>\n",
       "      <th></th>\n",
       "      <th></th>\n",
       "      <th></th>\n",
       "      <th></th>\n",
       "      <th></th>\n",
       "      <th></th>\n",
       "    </tr>\n",
       "  </thead>\n",
       "  <tbody>\n",
       "    <tr>\n",
       "      <th>dairy</th>\n",
       "      <td>130.0</td>\n",
       "      <td>125.774692</td>\n",
       "      <td>93.327721</td>\n",
       "      <td>3.04</td>\n",
       "      <td>45.7925</td>\n",
       "      <td>110.975</td>\n",
       "      <td>192.7150</td>\n",
       "      <td>430.76</td>\n",
       "    </tr>\n",
       "    <tr>\n",
       "      <th>wheat</th>\n",
       "      <td>130.0</td>\n",
       "      <td>71.549538</td>\n",
       "      <td>44.191318</td>\n",
       "      <td>2.74</td>\n",
       "      <td>37.0450</td>\n",
       "      <td>69.420</td>\n",
       "      <td>103.3725</td>\n",
       "      <td>197.50</td>\n",
       "    </tr>\n",
       "    <tr>\n",
       "      <th>poultry</th>\n",
       "      <td>130.0</td>\n",
       "      <td>21.219231</td>\n",
       "      <td>14.571980</td>\n",
       "      <td>0.47</td>\n",
       "      <td>10.9100</td>\n",
       "      <td>19.855</td>\n",
       "      <td>29.7475</td>\n",
       "      <td>62.50</td>\n",
       "    </tr>\n",
       "    <tr>\n",
       "      <th>fish</th>\n",
       "      <td>130.0</td>\n",
       "      <td>17.287077</td>\n",
       "      <td>19.013508</td>\n",
       "      <td>0.24</td>\n",
       "      <td>6.0250</td>\n",
       "      <td>13.950</td>\n",
       "      <td>21.8525</td>\n",
       "      <td>179.71</td>\n",
       "    </tr>\n",
       "    <tr>\n",
       "      <th>rice</th>\n",
       "      <td>130.0</td>\n",
       "      <td>29.375154</td>\n",
       "      <td>37.324471</td>\n",
       "      <td>0.95</td>\n",
       "      <td>4.7200</td>\n",
       "      <td>11.875</td>\n",
       "      <td>43.4425</td>\n",
       "      <td>171.73</td>\n",
       "    </tr>\n",
       "    <tr>\n",
       "      <th>pork</th>\n",
       "      <td>130.0</td>\n",
       "      <td>16.123692</td>\n",
       "      <td>15.717646</td>\n",
       "      <td>0.00</td>\n",
       "      <td>2.0900</td>\n",
       "      <td>10.355</td>\n",
       "      <td>28.2275</td>\n",
       "      <td>67.11</td>\n",
       "    </tr>\n",
       "    <tr>\n",
       "      <th>eggs</th>\n",
       "      <td>130.0</td>\n",
       "      <td>8.163769</td>\n",
       "      <td>5.032582</td>\n",
       "      <td>0.16</td>\n",
       "      <td>3.9450</td>\n",
       "      <td>8.420</td>\n",
       "      <td>12.3125</td>\n",
       "      <td>19.15</td>\n",
       "    </tr>\n",
       "    <tr>\n",
       "      <th>beef</th>\n",
       "      <td>130.0</td>\n",
       "      <td>12.123385</td>\n",
       "      <td>9.654140</td>\n",
       "      <td>0.78</td>\n",
       "      <td>4.9975</td>\n",
       "      <td>8.285</td>\n",
       "      <td>17.9400</td>\n",
       "      <td>55.48</td>\n",
       "    </tr>\n",
       "    <tr>\n",
       "      <th>nuts</th>\n",
       "      <td>130.0</td>\n",
       "      <td>4.137231</td>\n",
       "      <td>3.372817</td>\n",
       "      <td>0.18</td>\n",
       "      <td>1.8050</td>\n",
       "      <td>3.495</td>\n",
       "      <td>5.6100</td>\n",
       "      <td>23.03</td>\n",
       "    </tr>\n",
       "    <tr>\n",
       "      <th>lamb_goat</th>\n",
       "      <td>130.0</td>\n",
       "      <td>2.600154</td>\n",
       "      <td>3.665252</td>\n",
       "      <td>0.00</td>\n",
       "      <td>0.5600</td>\n",
       "      <td>1.325</td>\n",
       "      <td>3.1025</td>\n",
       "      <td>21.12</td>\n",
       "    </tr>\n",
       "    <tr>\n",
       "      <th>soybeans</th>\n",
       "      <td>130.0</td>\n",
       "      <td>0.860538</td>\n",
       "      <td>2.083336</td>\n",
       "      <td>0.00</td>\n",
       "      <td>0.0100</td>\n",
       "      <td>0.075</td>\n",
       "      <td>0.6400</td>\n",
       "      <td>16.95</td>\n",
       "    </tr>\n",
       "  </tbody>\n",
       "</table>\n",
       "</div>"
      ],
      "text/plain": [
       "               count        mean        std   min      25%      50%       75%  \\\n",
       "food_category                                                                   \n",
       "dairy          130.0  125.774692  93.327721  3.04  45.7925  110.975  192.7150   \n",
       "wheat          130.0   71.549538  44.191318  2.74  37.0450   69.420  103.3725   \n",
       "poultry        130.0   21.219231  14.571980  0.47  10.9100   19.855   29.7475   \n",
       "fish           130.0   17.287077  19.013508  0.24   6.0250   13.950   21.8525   \n",
       "rice           130.0   29.375154  37.324471  0.95   4.7200   11.875   43.4425   \n",
       "pork           130.0   16.123692  15.717646  0.00   2.0900   10.355   28.2275   \n",
       "eggs           130.0    8.163769   5.032582  0.16   3.9450    8.420   12.3125   \n",
       "beef           130.0   12.123385   9.654140  0.78   4.9975    8.285   17.9400   \n",
       "nuts           130.0    4.137231   3.372817  0.18   1.8050    3.495    5.6100   \n",
       "lamb_goat      130.0    2.600154   3.665252  0.00   0.5600    1.325    3.1025   \n",
       "soybeans       130.0    0.860538   2.083336  0.00   0.0100    0.075    0.6400   \n",
       "\n",
       "                  max  \n",
       "food_category          \n",
       "dairy          430.76  \n",
       "wheat          197.50  \n",
       "poultry         62.50  \n",
       "fish           179.71  \n",
       "rice           171.73  \n",
       "pork            67.11  \n",
       "eggs            19.15  \n",
       "beef            55.48  \n",
       "nuts            23.03  \n",
       "lamb_goat       21.12  \n",
       "soybeans        16.95  "
      ]
     },
     "execution_count": 15,
     "metadata": {},
     "output_type": "execute_result"
    }
   ],
   "source": [
    "# show a descriptive statistics about the consumption for each food_category, ordered by the median value\n",
    "food.groupby('food_category')['consumption'].describe().sort_values(by='50%', ascending=False)"
   ]
  },
  {
   "cell_type": "code",
   "execution_count": 16,
   "id": "fb546283",
   "metadata": {},
   "outputs": [
    {
     "name": "stdout",
     "output_type": "stream",
     "text": [
      "The food_category that has the highest median value (110.975) of food_consumption is dairy\n"
     ]
    }
   ],
   "source": [
    "# Which `food_category` has the highest median value of `food_consumption`?\n",
    "highest_median = food.groupby('food_category')['consumption'].describe().sort_values(by='50%', ascending=False).head(1)\n",
    "\n",
    "# print the results\n",
    "print(f\"The food_category that has the highest median value ({highest_median.loc[highest_median.index[0],'50%']}) of food_consumption is {highest_median.index[0]}\")"
   ]
  },
  {
   "cell_type": "code",
   "execution_count": 17,
   "id": "0f42d7f9-ccdc-4206-b4e4-b7e6748a65a7",
   "metadata": {},
   "outputs": [
    {
     "name": "stdout",
     "output_type": "stream",
     "text": [
      "As shows in the following boxplot, the food_category that has the highest IQR is beef\n"
     ]
    },
    {
     "data": {
      "image/png": "[encoded data removed]",
      "text/plain": [
       "<Figure size 1500x900 with 1 Axes>"
      ]
     },
     "metadata": {},
     "output_type": "display_data"
    }
   ],
   "source": [
    "# plot a boxplot that shows co2_emission for each food_category\n",
    "sns.boxplot(data=food, x='co2_emission', y='food_category')\n",
    "plt.title('CO2 emission for each Food Category')\n",
    "\n",
    "# print the observation\n",
    "print(\"As shows in the following boxplot, the food_category that has the highest IQR is beef\")"
   ]
  },
  {
   "cell_type": "code",
   "execution_count": 18,
   "id": "b0a27598-6e5d-437e-a879-15a86197bd4c",
   "metadata": {},
   "outputs": [
    {
     "name": "stdout",
     "output_type": "stream",
     "text": [
      "As shows in the previous boxplot, the food_category that has the highest median CO2 emission value is beef\n"
     ]
    }
   ],
   "source": [
    "# print the observation\n",
    "print(\"As shows in the previous boxplot, the food_category that has the highest median CO2 emission value is beef\")"
   ]
  },
  {
   "cell_type": "code",
   "execution_count": 20,
   "id": "2984c5be",
   "metadata": {},
   "outputs": [
    {
     "data": {
      "text/plain": [
       "array(['poultry', 'fish'], dtype=object)"
      ]
     },
     "execution_count": 20,
     "metadata": {},
     "output_type": "execute_result"
    }
   ],
   "source": [
    "# create a new DataFrame that contains only the datas of poultry and fish consumption\n",
    "food_test = food[food['food_category'].isin(['poultry','fish'])]\n",
    "\n",
    "# check if the boolean masking correctly ran\n",
    "food_test['food_category'].unique()"
   ]
  },
  {
   "cell_type": "code",
   "execution_count": 21,
   "id": "6c1b8982",
   "metadata": {},
   "outputs": [
    {
     "name": "stdout",
     "output_type": "stream",
     "text": [
      "<class 'pandas.core.frame.DataFrame'>\n",
      "Int64Index: 260 entries, 1 to 1423\n",
      "Data columns (total 4 columns):\n",
      " #   Column         Non-Null Count  Dtype  \n",
      "---  ------         --------------  -----  \n",
      " 0   country        260 non-null    object \n",
      " 1   food_category  260 non-null    object \n",
      " 2   consumption    260 non-null    float64\n",
      " 3   co2_emission   260 non-null    float64\n",
      "dtypes: float64(2), object(2)\n",
      "memory usage: 10.2+ KB\n"
     ]
    }
   ],
   "source": [
    "# show the info of the new DF food_test\n",
    "food_test.info()"
   ]
  },
  {
   "cell_type": "code",
   "execution_count": 22,
   "id": "2f83ce6a",
   "metadata": {},
   "outputs": [
    {
     "data": {
      "text/html": [
       "<div>\n",
       "<style scoped>\n",
       "    .dataframe tbody tr th:only-of-type {\n",
       "        vertical-align: middle;\n",
       "    }\n",
       "\n",
       "    .dataframe tbody tr th {\n",
       "        vertical-align: top;\n",
       "    }\n",
       "\n",
       "    .dataframe thead tr th {\n",
       "        text-align: left;\n",
       "    }\n",
       "</style>\n",
       "<table border=\"1\" class=\"dataframe\">\n",
       "  <thead>\n",
       "    <tr>\n",
       "      <th></th>\n",
       "      <th>food_category</th>\n",
       "      <th colspan=\"2\" halign=\"left\">consumption</th>\n",
       "    </tr>\n",
       "    <tr>\n",
       "      <th></th>\n",
       "      <th></th>\n",
       "      <th>count</th>\n",
       "      <th>mean</th>\n",
       "    </tr>\n",
       "  </thead>\n",
       "  <tbody>\n",
       "    <tr>\n",
       "      <th>0</th>\n",
       "      <td>fish</td>\n",
       "      <td>130</td>\n",
       "      <td>17.287077</td>\n",
       "    </tr>\n",
       "    <tr>\n",
       "      <th>1</th>\n",
       "      <td>poultry</td>\n",
       "      <td>130</td>\n",
       "      <td>21.219231</td>\n",
       "    </tr>\n",
       "  </tbody>\n",
       "</table>\n",
       "</div>"
      ],
      "text/plain": [
       "  food_category consumption           \n",
       "                      count       mean\n",
       "0          fish         130  17.287077\n",
       "1       poultry         130  21.219231"
      ]
     },
     "execution_count": 22,
     "metadata": {},
     "output_type": "execute_result"
    }
   ],
   "source": [
    "# check if poultry and fish food_categories have the same number of observations\n",
    "food_test.groupby(['food_category'], as_index=False).agg({'consumption': ['count', np.mean]})"
   ]
  },
  {
   "cell_type": "code",
   "execution_count": 26,
   "id": "4f0d65e7",
   "metadata": {},
   "outputs": [
    {
     "name": "stdout",
     "output_type": "stream",
     "text": [
      "Test statistic = 3.93\n"
     ]
    }
   ],
   "source": [
    "# define the test statistic (mean_diff)\n",
    "mean_poultry = np.mean(food_test[food_test['food_category'] == 'poultry']['consumption'])\n",
    "mean_fish = np.mean(food_test[food_test['food_category'] == 'fish']['consumption'])\n",
    "\n",
    "mean_diff = mean_poultry - mean_fish\n",
    "\n",
    "print(f\"Test statistic = {round(mean_diff, 2)}\")"
   ]
  },
  {
   "cell_type": "code",
   "execution_count": 27,
   "id": "eb084db5",
   "metadata": {},
   "outputs": [],
   "source": [
    "# define the hipotesis (the null hypothesis is that there's no difference between the two means)\n",
    "H0 = \"mean_test < mean_diff\"\n",
    "H1 = \"mean_test >= mean_diff\"\n",
    "\n",
    "# define the sample significant level (alpha)\n",
    "\n",
    "alpha = 0.05"
   ]
  },
  {
   "cell_type": "code",
   "execution_count": 28,
   "id": "f41ec0f7",
   "metadata": {},
   "outputs": [],
   "source": [
    "# run a permutation test to verify if the mean_diff observed is statistically significant\n",
    "n = 10000\n",
    "mu_diff_samples = []\n",
    "for i in range(n): \n",
    "    # extract a subsample of 50% of data without replacement\n",
    "    df_sample1 = food_test.sample(frac=0.5, replace=False)\n",
    "    # use set() to get indexes of rows that were not extracted from df in previous step\n",
    "    ix2 = set(food_test.index) - set(df_sample1.index)\n",
    "    # create dataframe with other 50% of data\n",
    "    df_sample2 = food_test.loc[list(ix2)]\n",
    "    # calculate difference in mean from each sample\n",
    "    mu_diff_temp = np.mean(df_sample1['consumption']) - np.mean(df_sample2['consumption'])\n",
    "    # append sampled mean difference to mu_diff_samples list\n",
    "    mu_diff_samples.append(mu_diff_temp)"
   ]
  },
  {
   "cell_type": "code",
   "execution_count": 29,
   "id": "8d68d5ee",
   "metadata": {},
   "outputs": [
    {
     "data": {
      "image/png": "[encoded data removed]",
      "text/plain": [
       "<Figure size 1500x900 with 1 Axes>"
      ]
     },
     "metadata": {},
     "output_type": "display_data"
    },
    {
     "name": "stdout",
     "output_type": "stream",
     "text": [
      "The test statistic is: 3.93\n"
     ]
    }
   ],
   "source": [
    "# show the histogram of the permutation test\n",
    "sns.histplot(mu_diff_samples)\n",
    "plt.axvline(mean_diff, 0, 1, color='r', linestyle='--')\n",
    "plt.show()\n",
    "print('The test statistic is:', round(mean_diff, 2))"
   ]
  },
  {
   "cell_type": "code",
   "execution_count": 30,
   "id": "295722be",
   "metadata": {},
   "outputs": [
    {
     "name": "stdout",
     "output_type": "stream",
     "text": [
      "Values more extreme than observed: 322\n",
      "p-value: 0.0322\n"
     ]
    }
   ],
   "source": [
    "# calculate the p_value and show it\n",
    "print('Values more extreme than observed:', sum([el >= mean_diff for el in mu_diff_samples]))\n",
    "p_value = sum([el > mean_diff for el in mu_diff_samples])/n\n",
    "print('p-value:', p_value)"
   ]
  },
  {
   "cell_type": "code",
   "execution_count": 31,
   "id": "8244fb64",
   "metadata": {},
   "outputs": [
    {
     "name": "stdout",
     "output_type": "stream",
     "text": [
      "p-value <= alpha | the observed result is statistically significant | H0 rejected\n"
     ]
    }
   ],
   "source": [
    "# check if the p_value is <= alpha and show if H0 is rejected or accepted\n",
    "if p_value <= alpha: \n",
    "    print('p-value <= alpha | the observed result is statistically significant | H0 rejected')\n",
    "else: \n",
    "    print('p-value > alpha | the observed result is not statistically significant | H0 accepted')"
   ]
  },
  {
   "attachments": {},
   "cell_type": "markdown",
   "id": "8646f97e",
   "metadata": {},
   "source": [
    "# Conclusions of the analysis\n",
    "\n",
    "__The difference in average consumption between poultry and fish__ within the sample may seem significant and, by performing a permutation test, I can confirme that __it is statistically significant__."
   ]
  }
 ],
 "metadata": {
  "kernelspec": {
   "display_name": "Python 3 (ipykernel)",
   "language": "python",
   "name": "python3"
  },
  "language_info": {
   "codemirror_mode": {
    "name": "ipython",
    "version": 3
   },
   "file_extension": ".py",
   "mimetype": "text/x-python",
   "name": "python",
   "nbconvert_exporter": "python",
   "pygments_lexer": "ipython3",
   "version": "3.10.11"
  }
 },
 "nbformat": 4,
 "nbformat_minor": 5
}
